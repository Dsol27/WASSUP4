{
 "cells": [
  {
   "cell_type": "markdown",
   "id": "24c38869-f737-4b8a-b448-45a4b6166e6b",
   "metadata": {},
   "source": [
    "# NUMPY"
   ]
  },
  {
   "cell_type": "code",
   "execution_count": 7,
   "id": "525280cf-38a4-444b-b8e9-acd803cbfd8d",
   "metadata": {},
   "outputs": [],
   "source": [
    "# numerical python\n",
    "# 고성능 수치 계산을 위한 라이브러리\n",
    "# 벡터나 행렬 연산에 편리한 기능 제공\n",
    "# 모든 원소는 같은 자료형만 가능"
   ]
  },
  {
   "cell_type": "code",
   "execution_count": 15,
   "id": "ed1b98a6-0ea8-41aa-885a-d7198ca78972",
   "metadata": {
    "scrolled": true
   },
   "outputs": [
    {
     "name": "stdout",
     "output_type": "stream",
     "text": [
      "[ 0  1  2  3  4  5  6  7  8  9 10 11 12 13 14]\n",
      "[[ 0  1  2  3  4]\n",
      " [ 5  6  7  8  9]\n",
      " [10 11 12 13 14]]\n"
     ]
    }
   ],
   "source": [
    "import numpy as np\n",
    "# 호출한 함수는 'arange'는 리턴을 하는데 반드시 자기 자리로 돌아온다. \n",
    "a = np.arange( 15 ) ## 1차원 데이터 \n",
    "print(a)\n",
    "## 다시 차원을 바꾸겠다 'reshape'\n",
    "a = a.reshape( 3, 5 )\n",
    "print(a)"
   ]
  },
  {
   "cell_type": "code",
   "execution_count": 55,
   "id": "0f6ae0d2-b030-434b-a464-b34e809cc984",
   "metadata": {
    "scrolled": true
   },
   "outputs": [
    {
     "name": "stdout",
     "output_type": "stream",
     "text": [
      "[ 0  1  2  3  4  5  6  7  8  9 10 11 12 13 14]\n",
      "[[ 0  1  2  3  4]\n",
      " [ 5  6  7  8  9]\n",
      " [10 11 12 13 14]]\n",
      "<class 'numpy.ndarray'>\n",
      "(3, 5)\n",
      "int32\n",
      "2\n",
      "15\n"
     ]
    }
   ],
   "source": [
    "import numpy as np\n",
    "a = np.arange(15)\n",
    "print(a)\n",
    "a = a.reshape(3,5, order = F)\n",
    "print(a)\n",
    "print(type(a))\n",
    "print(a.shape) # 함수가 아니라, 변수임 'shape 차원'\n",
    "print(a.dtype)\n",
    "print(a.ndim) # 2차원 데이터\n",
    "print(a.size)\n",
    "\n",
    "\n",
    "# print(dir(np))"
   ]
  },
  {
   "cell_type": "code",
   "execution_count": 57,
   "id": "de20f33d-f564-408d-ac76-547b66e0a978",
   "metadata": {},
   "outputs": [],
   "source": [
    "#비정형 데이터 => 길이, 리스트 등이 정해져있지않은것\n",
    "## 그래서 비정형 데이터를 가져오면 지저분한 경우가 많음 \n",
    "### 그러므로 데이터를 가져올 때, '몇 차원 데이터인지', '데이터가 어떻게 배열되어있는지' 확인하는 것이 좋다. \n",
    "#함수마다 사용법이 다르다. 매개변수를 안 두고 쓰는 경우가 있고 없는 경우도 있다. \n",
    "# 라이브러리에 무슨 내용이 들어있는지 확인할 수 있다. "
   ]
  },
  {
   "cell_type": "code",
   "execution_count": 61,
   "id": "c8993004-aa2b-4b01-9fd6-3d30095cc46a",
   "metadata": {},
   "outputs": [
    {
     "name": "stdout",
     "output_type": "stream",
     "text": [
      "[[ 0  1  2  3  4]\n",
      " [ 5  6  7  8  9]\n",
      " [10 11 12 13 14]]\n"
     ]
    }
   ],
   "source": [
    "print(a) # 모든 셀을 실행해라"
   ]
  },
  {
   "cell_type": "code",
   "execution_count": 115,
   "id": "3672308f-bc0f-4a40-a2b2-3597df48a1c2",
   "metadata": {},
   "outputs": [
    {
     "name": "stdout",
     "output_type": "stream",
     "text": [
      "<class 'numpy.ndarray'>\n",
      "<class 'numpy.ndarray'>\n",
      "<class 'tuple'>\n",
      "<class 'numpy.ndarray'>\n",
      "<class 'tuple'>\n",
      "<class 'numpy.ndarray'>\n"
     ]
    }
   ],
   "source": [
    "b = np.array( [-1, 2, 5, -3, 0, 5, 7, -9, 7, -4, -7]) #List\n",
    "print(type(b))\n",
    "b = np.array(b)\n",
    "print(type(b))\n",
    "\n",
    "t = (10, 20, 30, 40, 50) # Tuple\n",
    "print(type(t))\n",
    "t = np.array(t)\n",
    "print(type(t))\n",
    "#딕셔너리는 numpy로 바꿀 수 없다. 딕셔너리는 값이 key, value 2개이기 때문이다. 딕셔너리는 pandas와 호환이 된다. \n",
    "\n",
    "s = (10, 20, 30, 40, 50) #Set\n",
    "print(type(s))\n",
    "s = np.array(s)\n",
    "print(type(s))"
   ]
  },
  {
   "cell_type": "code",
   "execution_count": 93,
   "id": "68edf11e-5401-4f2d-98fa-8f3a0cb03263",
   "metadata": {},
   "outputs": [
    {
     "name": "stdout",
     "output_type": "stream",
     "text": [
      "(11,)\n",
      "1\n",
      "int32\n",
      "[-1  2  5 -3  0  5  7 -9  7 -4 -7]\n"
     ]
    }
   ],
   "source": [
    "print(b.shape)\n",
    "print(b.ndim)\n",
    "print(b.dtype)\n",
    "print(b)\n",
    "\n",
    "#print(help(np))"
   ]
  },
  {
   "cell_type": "code",
   "execution_count": 105,
   "id": "76a6ee5e-36af-4963-b3f9-ff82643a9d66",
   "metadata": {},
   "outputs": [
    {
     "name": "stdout",
     "output_type": "stream",
     "text": [
      "[1 2 5 3 0 5 7 9 7 4 7]\n",
      "[1.         1.41421356 2.23606798 1.73205081 0.         2.23606798\n",
      " 2.64575131 3.         2.64575131 2.         2.64575131]\n",
      "[ 1  4 25  9  0 25 49 81 49 16 49]\n"
     ]
    }
   ],
   "source": [
    "print(np.abs(b)) #절대값\n",
    "#print(np.sqrt(b)) # nan 은 결과를 못 낸다는 의미\n",
    "print(np.sqrt(np.abs(b))) #제곱근\n",
    "print(np.square(b)) # 제곱"
   ]
  },
  {
   "cell_type": "code",
   "execution_count": 133,
   "id": "d3e820f5-8096-41a3-85a4-b07bc0c21a6d",
   "metadata": {},
   "outputs": [
    {
     "name": "stdout",
     "output_type": "stream",
     "text": [
      "[False False False False False False False False False False False]\n",
      "2\n",
      "0.18181818181818182\n",
      "7\n",
      "-9\n",
      "6\n",
      "7\n"
     ]
    }
   ],
   "source": [
    "print(np.isnan(b)) # nan 여부\n",
    "print(np.sum(b)) #합계\n",
    "print(np.mean(b)) # 평균\n",
    "print(np.max(b)) # 최대값 \n",
    "print(np.min(b)) # 최소값\n",
    "print(np.argmax(b)) # 최대값 인덱스\n",
    "print(np.argmin(b)) # 최소값 인덱스"
   ]
  },
  {
   "cell_type": "code",
   "execution_count": 141,
   "id": "7c821ad8-4d9e-4b7a-800b-1d021cd70b85",
   "metadata": {},
   "outputs": [
    {
     "name": "stdout",
     "output_type": "stream",
     "text": [
      "[-9 -7 -4 -3 -1  0  2  5  5  7  7]\n",
      "[ 7  7  5  5  2  0 -1 -3 -4 -7 -9]\n"
     ]
    }
   ],
   "source": [
    "print(np.sort(b)) #정렬 오름차순\n",
    "# print(np.sort(b)) # 오름차순된 데이터를 거꾸로 만들어라\n",
    "print(np.sort(b)[::-1]) #정렬 내림차순 \n",
    "# 전체 데이터 중에서 일부만 꺼낼때, [start : end : step] 시작 : 끝 : 간격 인덱스"
   ]
  },
  {
   "cell_type": "code",
   "execution_count": 143,
   "id": "76fd1661-3f04-4e6f-8324-ca50ee7e05e2",
   "metadata": {},
   "outputs": [
    {
     "name": "stdout",
     "output_type": "stream",
     "text": [
      "0.0\n"
     ]
    }
   ],
   "source": [
    "print(np.median(b)) # 중간값"
   ]
  },
  {
   "cell_type": "code",
   "execution_count": null,
   "id": "82ba7de6-3a67-48b7-a94d-48af47855878",
   "metadata": {},
   "outputs": [],
   "source": []
  }
 ],
 "metadata": {
  "kernelspec": {
   "display_name": "Python 3 (ipykernel)",
   "language": "python",
   "name": "python3"
  },
  "language_info": {
   "codemirror_mode": {
    "name": "ipython",
    "version": 3
   },
   "file_extension": ".py",
   "mimetype": "text/x-python",
   "name": "python",
   "nbconvert_exporter": "python",
   "pygments_lexer": "ipython3",
   "version": "3.11.7"
  }
 },
 "nbformat": 4,
 "nbformat_minor": 5
}
