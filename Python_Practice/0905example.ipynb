{
 "cells": [
  {
   "cell_type": "markdown",
   "id": "1bcca077-e000-464f-8299-beb3c0fcf5e0",
   "metadata": {},
   "source": [
    "# 위키독스 예제"
   ]
  },
  {
   "cell_type": "code",
   "execution_count": 13,
   "id": "5a82ebb1-77d1-498d-87ae-e29b8025470f",
   "metadata": {},
   "outputs": [],
   "source": [
    "#051\n",
    "movie_rank = [\"닥터 스트레인지\", \"스플릿\", \"럭키\"]"
   ]
  },
  {
   "cell_type": "code",
   "execution_count": 23,
   "id": "509c7e20-2235-41c4-bf3b-269893d52bbc",
   "metadata": {},
   "outputs": [
    {
     "name": "stdout",
     "output_type": "stream",
     "text": [
      "['닥터 스트레인지', '스플릿', '럭키', '배트맨']\n"
     ]
    }
   ],
   "source": [
    "#052\n",
    "movie_rank.append(\"배트맨\") #마지막에 추가\n",
    "print(movie_rank)"
   ]
  },
  {
   "cell_type": "code",
   "execution_count": 25,
   "id": "46e04bb3-b5fe-4f5f-aa46-420944e7dc06",
   "metadata": {},
   "outputs": [
    {
     "name": "stdout",
     "output_type": "stream",
     "text": [
      "['닥터 스트레인지', '배트맨', '스플릿', '럭키', '배트맨']\n"
     ]
    }
   ],
   "source": [
    "#053\n",
    "movie_rank.insert(1, \"배트맨\")\n",
    "print(movie_rank)"
   ]
  },
  {
   "cell_type": "code",
   "execution_count": 45,
   "id": "aea17667-dfa8-4d40-b325-95bdd7e09845",
   "metadata": {},
   "outputs": [
    {
     "name": "stdout",
     "output_type": "stream",
     "text": [
      "['닥터 스트레인지', '배트맨', '스플릿']\n"
     ]
    }
   ],
   "source": [
    "#054\n",
    "del movie_rank[3]\n",
    "print(movie_rank)"
   ]
  },
  {
   "cell_type": "code",
   "execution_count": null,
   "id": "0104f7b1-7cbd-4383-9442-4d3d0cac1c43",
   "metadata": {},
   "outputs": [],
   "source": [
    "#055\n"
   ]
  }
 ],
 "metadata": {
  "kernelspec": {
   "display_name": "Python 3 (ipykernel)",
   "language": "python",
   "name": "python3"
  },
  "language_info": {
   "codemirror_mode": {
    "name": "ipython",
    "version": 3
   },
   "file_extension": ".py",
   "mimetype": "text/x-python",
   "name": "python",
   "nbconvert_exporter": "python",
   "pygments_lexer": "ipython3",
   "version": "3.11.7"
  }
 },
 "nbformat": 4,
 "nbformat_minor": 5
}
